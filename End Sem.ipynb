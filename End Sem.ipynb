{
 "cells": [
  {
   "cell_type": "code",
   "execution_count": 1,
   "id": "9f091b7f",
   "metadata": {},
   "outputs": [],
   "source": [
    "import numpy as np\n",
    "import matplotlib.pyplot as plt\n",
    "import pandas as pd\n",
    "\n",
    "from comp_phy import everythin as ev"
   ]
  },
  {
   "cell_type": "markdown",
   "id": "bbca1c52",
   "metadata": {},
   "source": [
    "# Question 1"
   ]
  },
  {
   "cell_type": "code",
   "execution_count": 2,
   "id": "7a79b3f6",
   "metadata": {},
   "outputs": [],
   "source": [
    "am = [572,16381]"
   ]
  },
  {
   "cell_type": "code",
   "execution_count": 3,
   "id": "7f0a0a06",
   "metadata": {},
   "outputs": [],
   "source": [
    "def rand_2dwalk(steps):\n",
    "    n = steps\n",
    "    x = np.zeros(n)\n",
    "    y = np.zeros(n)\n",
    "\n",
    "    # filling the coordinates with random variables\n",
    "    for i in range(1, n):\n",
    "        val = np.abs(ev.mlcg(am))\n",
    "        if val < 0.25:\n",
    "            x[i] = x[i - 1] + 1\n",
    "            y[i] = y[i - 1]\n",
    "        elif val < 0.5:\n",
    "            x[i] = x[i - 1] - 1\n",
    "            y[i] = y[i - 1]\n",
    "        elif val < 0.75:\n",
    "            x[i] = x[i - 1]\n",
    "            y[i] = y[i - 1] + 1\n",
    "        else:\n",
    "            x[i] = x[i - 1]\n",
    "            y[i] = y[i - 1] - 1\n",
    "    \n",
    "    d = np.power(x[n-1]**2 + y[n-1]**2,0.5)\n",
    "    \n",
    "    return x,y,d\n",
    "\n",
    " "
   ]
  },
  {
   "cell_type": "code",
   "execution_count": 4,
   "id": "5ef904c0",
   "metadata": {},
   "outputs": [],
   "source": [
    "rw200 = rand_2dwalk(200)"
   ]
  },
  {
   "cell_type": "code",
   "execution_count": 5,
   "id": "10e32cd3",
   "metadata": {},
   "outputs": [
    {
     "data": {
      "text/plain": [
       "Text(0.5, 1.0, 'Random Walk n = 200 steps')"
      ]
     },
     "execution_count": 5,
     "metadata": {},
     "output_type": "execute_result"
    },
    {
     "data": {
      "image/png": "[encoded data removed]",
      "text/plain": [
       "<Figure size 432x288 with 1 Axes>"
      ]
     },
     "metadata": {
      "needs_background": "light"
     },
     "output_type": "display_data"
    }
   ],
   "source": [
    "plt.plot(rw200[0],rw200[1])\n",
    "plt.title(\"Random Walk n = 200 steps\")"
   ]
  },
  {
   "cell_type": "code",
   "execution_count": 6,
   "id": "ed493cb4",
   "metadata": {},
   "outputs": [
    {
     "name": "stdout",
     "output_type": "stream",
     "text": [
      "Difference is -0.31404826502511973 hence R_rms ~ N^1/2\n"
     ]
    }
   ],
   "source": [
    "#R_rms over 500 walks of N=200 steps\n",
    "\n",
    "walks = 500\n",
    "d = np.zeros(walks)\n",
    "sm = 0\n",
    "for i in range(walks):\n",
    "    d[i] = rand_2dwalk(200)[2]\n",
    "    sm += d[i]**2\n",
    "\n",
    "R_rms = np.power(sm/walks,0.5)\n",
    "\n",
    "print(f\"Difference is {R_rms - 200**0.5} hence R_rms ~ N^1/2\")\n",
    "\n",
    "\n",
    "#R_rms = 13.887836404566407\n",
    "#Difference is -0.2542992191645439 hence R_rms ~ N^1/2"
   ]
  },
  {
   "cell_type": "code",
   "execution_count": 7,
   "id": "72d07139",
   "metadata": {},
   "outputs": [
    {
     "data": {
      "text/plain": [
       "13.828087358705831"
      ]
     },
     "execution_count": 7,
     "metadata": {},
     "output_type": "execute_result"
    }
   ],
   "source": [
    "R_rms"
   ]
  },
  {
   "cell_type": "markdown",
   "id": "59fd1202",
   "metadata": {},
   "source": [
    "# Question 2"
   ]
  },
  {
   "cell_type": "code",
   "execution_count": 8,
   "id": "25cc7322",
   "metadata": {},
   "outputs": [],
   "source": [
    "with open('esem4fit.txt') as fin, open('fit.txt', 'w') as fout:\n",
    "    for line in fin:\n",
    "        fout.write(line.replace('\\t', ','))"
   ]
  },
  {
   "cell_type": "code",
   "execution_count": 9,
   "id": "3c275546",
   "metadata": {},
   "outputs": [],
   "source": [
    "read_file = pd.read_csv (r'D:\\P452-Comp Phy\\End sem work\\fit.txt')\n",
    "read_file.to_csv (r'D:\\P452-Comp Phy\\End sem work\\fit.csv', index=None)"
   ]
  },
  {
   "cell_type": "code",
   "execution_count": 11,
   "id": "8cdfd106",
   "metadata": {},
   "outputs": [
    {
     "name": "stdout",
     "output_type": "stream",
     "text": [
      "       x         y\n",
      "0  -1.00  0.151250\n",
      "1  -0.92  0.083828\n",
      "2  -0.84  0.062890\n",
      "3  -0.76  0.026487\n",
      "4  -0.68  0.021388\n",
      "5  -0.60  0.012808\n",
      "6  -0.52  0.018010\n",
      "7  -0.44  0.060025\n",
      "8  -0.36  0.078500\n",
      "9  -0.28  0.106431\n",
      "10 -0.20  0.099390\n",
      "11 -0.12  0.115650\n",
      "12 -0.04  0.133770\n",
      "13  0.04  0.101914\n",
      "14  0.12  0.097012\n",
      "15  0.20  0.105238\n",
      "16  0.28  0.095889\n",
      "17  0.36  0.051636\n",
      "18  0.44  0.048207\n",
      "19  0.52  0.018802\n",
      "20  0.60  0.020749\n",
      "21  0.68  0.027548\n",
      "22  0.76  0.031700\n",
      "23  0.84  0.069883\n",
      "24  0.92  0.112413\n",
      "25  1.00  0.172327\n"
     ]
    }
   ],
   "source": [
    "df = pd.read_csv(r'D:\\P452-Comp Phy\\End sem work\\fit.csv',names=[\"x\",\"y\"])\n",
    "df.head()\n",
    "print(df)"
   ]
  },
  {
   "cell_type": "code",
   "execution_count": 12,
   "id": "5472a170",
   "metadata": {},
   "outputs": [
    {
     "name": "stdout",
     "output_type": "stream",
     "text": [
      "[-1.   -0.92 -0.84 -0.76 -0.68 -0.6  -0.52 -0.44 -0.36 -0.28 -0.2  -0.12\n",
      " -0.04  0.04  0.12  0.2   0.28  0.36  0.44  0.52  0.6   0.68  0.76  0.84\n",
      "  0.92  1.  ] [0.15125  0.083828 0.06289  0.026487 0.021388 0.012808 0.01801  0.060025\n",
      " 0.0785   0.106431 0.09939  0.11565  0.13377  0.101914 0.097012 0.105238\n",
      " 0.095889 0.051636 0.048207 0.018802 0.020749 0.027548 0.0317   0.069883\n",
      " 0.112413 0.172327]\n"
     ]
    }
   ],
   "source": [
    "x = df['x'].to_numpy()\n",
    "y = df['y'].to_numpy()\n",
    "print(x,y)"
   ]
  },
  {
   "cell_type": "code",
   "execution_count": 13,
   "id": "777ffc50",
   "metadata": {},
   "outputs": [],
   "source": [
    "def legendre(x,n):\n",
    "    P = np.array([1,x,(3*x**2 -1)/2,(5*x**3 - 3*x)/2,(35*x**4 - 30*x**2 +3)/8,(63*x**5 - 70*x**3 + 15*x)/8,(231*x**6 - 315*x**4 + 105*x**2 -5)/16])\n",
    "    P_req = np.zeros(n)\n",
    "    for i in range(n):\n",
    "        P_req[i] = P[i]\n",
    "    return P_req\n"
   ]
  },
  {
   "cell_type": "code",
   "execution_count": 14,
   "id": "28bcb026",
   "metadata": {},
   "outputs": [],
   "source": [
    "def legendre_fit(x,y,n):\n",
    "    row = len(x)\n",
    "    mat_A = np.zeros((row,n+1))\n",
    "\n",
    "    for i in range(row):\n",
    "        for j in range(n+1):\n",
    "            mat_A[i][j]= legendre(x[i],n+1)[j]\n",
    "    mat_At = mat_A.T\n",
    "    mat_A1 = np.dot(mat_At,mat_A)\n",
    "    mat_y1 = np.dot(mat_At,y)\n",
    "    x_ini = np.ones(n+1)\n",
    "    coeffs = ev.Conjugate_Gradient(mat_A1,mat_y1,x_ini)     #coefficient matrix\n",
    "    \n",
    "    return coeffs\n",
    "\n",
    "def legendre_y(x,coeffs):\n",
    "    n = len(x)\n",
    "    y = np.zeros(n)\n",
    "    order = len(coeffs)\n",
    "    for i in range(n):\n",
    "        y[i] = np.sum(coeffs*legendre(x[i],order))\n",
    "    #y = np.sum(coeffs*legendre(x,order))\n",
    "    return y\n",
    "\n",
    "\n",
    "def showfit_legendre(x,y,coeffs):\n",
    "    x_new = np.linspace(x[0],x[-1])\n",
    "\n",
    "    y_new = legendre_y(x_new,coeffs)\n",
    "\n",
    "    plt.plot(x, y, \"o\", x_new, y_new)\n",
    "\n",
    "    plt.xlim([x[0]-1, x[-1] + 1 ])\n",
    "    \n",
    "    return None\n"
   ]
  },
  {
   "cell_type": "code",
   "execution_count": 15,
   "id": "00611129",
   "metadata": {},
   "outputs": [
    {
     "name": "stdout",
     "output_type": "stream",
     "text": [
      "Iteration: 5 \t x = [ 0.0696578   0.00362402 -0.01208258  0.01142622  0.11049235] \t residual = 0.0000\n"
     ]
    }
   ],
   "source": [
    "# for order 4 Legenedre Polynomial\n",
    "\n",
    "coeffs_legendre = legendre_fit(x,y,4)\n",
    "\n",
    "# coeffs = [ 0.0696578   0.00362402 -0.01208258  0.01142622  0.11049235]"
   ]
  },
  {
   "cell_type": "code",
   "execution_count": 16,
   "id": "02b0325a",
   "metadata": {},
   "outputs": [
    {
     "data": {
      "image/png": "[encoded data removed]",
      "text/plain": [
       "<Figure size 432x288 with 1 Axes>"
      ]
     },
     "metadata": {
      "needs_background": "light"
     },
     "output_type": "display_data"
    }
   ],
   "source": [
    "# for order 4 Legenedre Polynomial\n",
    "\n",
    "showfit_legendre(x,y,coeffs_legendre)"
   ]
  },
  {
   "cell_type": "code",
   "execution_count": 17,
   "id": "682d7326",
   "metadata": {},
   "outputs": [
    {
     "name": "stdout",
     "output_type": "stream",
     "text": [
      "Iteration: 7 \t x = [ 0.07003197  0.00430169 -0.01016671  0.01308374  0.11411855 -0.00672697\n",
      " -0.01238456] \t residual = 0.0000\n"
     ]
    }
   ],
   "source": [
    "# for order 6 Legenedre Polynomial\n",
    "\n",
    "coeffs_legendre1 = legendre_fit(x,y,6)\n",
    "\n",
    "# coeffs = [ 0.0696578   0.00362402 -0.01208258  0.01142622  0.11049235]"
   ]
  },
  {
   "cell_type": "code",
   "execution_count": 18,
   "id": "d8c3a8f2",
   "metadata": {},
   "outputs": [
    {
     "data": {
      "image/png": "[encoded data removed]",
      "text/plain": [
       "<Figure size 432x288 with 1 Axes>"
      ]
     },
     "metadata": {
      "needs_background": "light"
     },
     "output_type": "display_data"
    }
   ],
   "source": [
    "# for order 6 Legenedre Polynomial\n",
    "\n",
    "showfit_legendre(x,y,coeffs_legendre1)"
   ]
  },
  {
   "cell_type": "markdown",
   "id": "71a4b0c1",
   "metadata": {},
   "source": [
    "# Question 4"
   ]
  },
  {
   "cell_type": "code",
   "execution_count": 41,
   "id": "c0e93f50",
   "metadata": {},
   "outputs": [],
   "source": [
    "import sympy as sp"
   ]
  },
  {
   "cell_type": "code",
   "execution_count": 42,
   "id": "e2ab787f",
   "metadata": {},
   "outputs": [
    {
     "data": {
      "text/html": [
       "<div>\n",
       "<style scoped>\n",
       "    .dataframe tbody tr th:only-of-type {\n",
       "        vertical-align: middle;\n",
       "    }\n",
       "\n",
       "    .dataframe tbody tr th {\n",
       "        vertical-align: top;\n",
       "    }\n",
       "\n",
       "    .dataframe thead th {\n",
       "        text-align: right;\n",
       "    }\n",
       "</style>\n",
       "<table border=\"1\" class=\"dataframe\">\n",
       "  <thead>\n",
       "    <tr style=\"text-align: right;\">\n",
       "      <th></th>\n",
       "      <th>Integration Points</th>\n",
       "      <th>Corresponding Weights</th>\n",
       "    </tr>\n",
       "  </thead>\n",
       "  <tbody>\n",
       "    <tr>\n",
       "      <th>0</th>\n",
       "      <td>[0.861136311, 0.339981043, -0.339981043, -0.86...</td>\n",
       "      <td>[0.347854845, 0.652145154, 0.652145154, 0.3478...</td>\n",
       "    </tr>\n",
       "    <tr>\n",
       "      <th>1</th>\n",
       "      <td>[0.906179845, 0.53846931, 0, -0.53846931, -0.9...</td>\n",
       "      <td>[0.236926885, 0.47862867, 0.56888889, 0.478628...</td>\n",
       "    </tr>\n",
       "    <tr>\n",
       "      <th>2</th>\n",
       "      <td>[0.932469514, 0.661209386, 0.238619186, -0.238...</td>\n",
       "      <td>[0.171324492, 0.360761573, 0.467913934, 0.4679...</td>\n",
       "    </tr>\n",
       "  </tbody>\n",
       "</table>\n",
       "</div>"
      ],
      "text/plain": [
       "                                  Integration Points  \\\n",
       "0  [0.861136311, 0.339981043, -0.339981043, -0.86...   \n",
       "1  [0.906179845, 0.53846931, 0, -0.53846931, -0.9...   \n",
       "2  [0.932469514, 0.661209386, 0.238619186, -0.238...   \n",
       "\n",
       "                               Corresponding Weights  \n",
       "0  [0.347854845, 0.652145154, 0.652145154, 0.3478...  \n",
       "1  [0.236926885, 0.47862867, 0.56888889, 0.478628...  \n",
       "2  [0.171324492, 0.360761573, 0.467913934, 0.4679...  "
      ]
     },
     "metadata": {},
     "output_type": "display_data"
    }
   ],
   "source": [
    "GaussTable = [[[0.861136311, 0.339981043, -0.339981043, -0.861136311], [0.347854845, 0.652145154, 0.652145154, 0.347854845]],\n",
    "              [[0.906179845, 0.538469310, 0, -0.538469310, -0.906179845], [0.236926885, 0.478628670, 0.56888889, 0.478628670, 0.236926885]],\n",
    "              [[0.932469514, 0.661209386, 0.238619186, -0.238619186, -0.661209386, -0.932469514], [0.171324492, 0.360761573, 0.467913934, 0.467913934, 0.360761573,  0.171324492]]]\n",
    "display(pd.DataFrame(GaussTable, columns=[\"Integration Points\", \"Corresponding Weights\"]))\n"
   ]
  },
  {
   "cell_type": "code",
   "execution_count": 43,
   "id": "5cf13ba2",
   "metadata": {},
   "outputs": [
    {
     "data": {
      "text/html": [
       "<div>\n",
       "<style scoped>\n",
       "    .dataframe tbody tr th:only-of-type {\n",
       "        vertical-align: middle;\n",
       "    }\n",
       "\n",
       "    .dataframe tbody tr th {\n",
       "        vertical-align: top;\n",
       "    }\n",
       "\n",
       "    .dataframe thead th {\n",
       "        text-align: right;\n",
       "    }\n",
       "</style>\n",
       "<table border=\"1\" class=\"dataframe\">\n",
       "  <thead>\n",
       "    <tr style=\"text-align: right;\">\n",
       "      <th></th>\n",
       "      <th>Number of Integration Points</th>\n",
       "      <th>Numerical Integration Results</th>\n",
       "    </tr>\n",
       "  </thead>\n",
       "  <tbody>\n",
       "    <tr>\n",
       "      <th>0</th>\n",
       "      <td>4</td>\n",
       "      <td>1.762054179</td>\n",
       "    </tr>\n",
       "    <tr>\n",
       "      <th>1</th>\n",
       "      <td>5</td>\n",
       "      <td>1.762855296</td>\n",
       "    </tr>\n",
       "    <tr>\n",
       "      <th>2</th>\n",
       "      <td>6</td>\n",
       "      <td>1.762730048</td>\n",
       "    </tr>\n",
       "  </tbody>\n",
       "</table>\n",
       "</div>"
      ],
      "text/plain": [
       "   Number of Integration Points Numerical Integration Results\n",
       "0                             4                   1.762054179\n",
       "1                             5                   1.762855296\n",
       "2                             6                   1.762730048"
      ]
     },
     "metadata": {},
     "output_type": "display_data"
    }
   ],
   "source": [
    "def IG(f, n):\n",
    "  n = int(n)\n",
    "  return sum([GaussTable[n - 4][1][i]*f(GaussTable[n - 4][0][i]) for i in range(n)])\n",
    "def f(x): \n",
    "    return 1/np.power((1 + x**2),0.5)\n",
    "#Iexact, error = integrate.quad(f, -1, 1)\n",
    "#print(\"Iexact: \",Iexact)\n",
    "table = [[i + 4, round(sp.N(IG(f, i + 4)),9)] for i in range(3)]             #truncating to 1e-9, 9 decimal places\n",
    "table = pd.DataFrame(table, columns=[\"Number of Integration Points\",  \"Numerical Integration Results\"])\n",
    "display(table)\n"
   ]
  },
  {
   "cell_type": "code",
   "execution_count": 44,
   "id": "e4a824b7",
   "metadata": {},
   "outputs": [],
   "source": [
    "res = table[\"Numerical Integration Results\"]"
   ]
  },
  {
   "cell_type": "code",
   "execution_count": 45,
   "id": "b3cf137e",
   "metadata": {},
   "outputs": [
    {
     "data": {
      "text/html": [
       "<div>\n",
       "<style scoped>\n",
       "    .dataframe tbody tr th:only-of-type {\n",
       "        vertical-align: middle;\n",
       "    }\n",
       "\n",
       "    .dataframe tbody tr th {\n",
       "        vertical-align: top;\n",
       "    }\n",
       "\n",
       "    .dataframe thead th {\n",
       "        text-align: right;\n",
       "    }\n",
       "</style>\n",
       "<table border=\"1\" class=\"dataframe\">\n",
       "  <thead>\n",
       "    <tr style=\"text-align: right;\">\n",
       "      <th></th>\n",
       "      <th>Numerical Integration Results</th>\n",
       "      <th>rel_err wrt 4pt</th>\n",
       "      <th>rel_err wrt 5pt</th>\n",
       "      <th>rel_err wrt 6pt</th>\n",
       "    </tr>\n",
       "  </thead>\n",
       "  <tbody>\n",
       "    <tr>\n",
       "      <th>0</th>\n",
       "      <td>1.762054179</td>\n",
       "      <td>0</td>\n",
       "      <td>-0.0004544428582</td>\n",
       "      <td>-0.0003834217272</td>\n",
       "    </tr>\n",
       "    <tr>\n",
       "      <th>1</th>\n",
       "      <td>1.762855296</td>\n",
       "      <td>0.0004546494704</td>\n",
       "      <td>0</td>\n",
       "      <td>7.105342070e-5</td>\n",
       "    </tr>\n",
       "    <tr>\n",
       "      <th>2</th>\n",
       "      <td>1.762730048</td>\n",
       "      <td>0.0003835687959</td>\n",
       "      <td>-7.104837247e-5</td>\n",
       "      <td>0</td>\n",
       "    </tr>\n",
       "  </tbody>\n",
       "</table>\n",
       "</div>"
      ],
      "text/plain": [
       "  Numerical Integration Results  rel_err wrt 4pt   rel_err wrt 5pt  \\\n",
       "0                   1.762054179                0  -0.0004544428582   \n",
       "1                   1.762855296  0.0004546494704                 0   \n",
       "2                   1.762730048  0.0003835687959   -7.104837247e-5   \n",
       "\n",
       "    rel_err wrt 6pt  \n",
       "0  -0.0003834217272  \n",
       "1    7.105342070e-5  \n",
       "2                 0  "
      ]
     },
     "metadata": {},
     "output_type": "display_data"
    }
   ],
   "source": [
    "table1 = [[res[i],(res[i]-res[0])/res[0],(res[i]-res[1])/res[1],(res[i]-res[2])/res[2]] for i in range(3)]\n",
    "table1 = pd.DataFrame(table1,columns=[\"Numerical Integration Results\",\"rel_err wrt 4pt\", \"rel_err wrt 5pt\", \"rel_err wrt 6pt\"])\n",
    "display(table1)"
   ]
  }
 ],
 "metadata": {
  "kernelspec": {
   "display_name": "Python 3 (ipykernel)",
   "language": "python",
   "name": "python3"
  },
  "language_info": {
   "codemirror_mode": {
    "name": "ipython",
    "version": 3
   },
   "file_extension": ".py",
   "mimetype": "text/x-python",
   "name": "python",
   "nbconvert_exporter": "python",
   "pygments_lexer": "ipython3",
   "version": "3.10.4"
  }
 },
 "nbformat": 4,
 "nbformat_minor": 5
}
